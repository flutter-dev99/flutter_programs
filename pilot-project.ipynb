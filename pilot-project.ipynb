{
 "cells": [
  {
   "cell_type": "code",
   "execution_count": 1,
   "metadata": {
    "_cell_guid": "b1076dfc-b9ad-4769-8c92-a6c4dae69d19",
    "_uuid": "8f2839f25d086af736a60e9eeb907d3b93b6e0e5",
    "execution": {
     "iopub.execute_input": "2020-08-28T17:14:31.039473Z",
     "iopub.status.busy": "2020-08-28T17:14:31.038546Z",
     "iopub.status.idle": "2020-08-28T17:14:32.481897Z",
     "shell.execute_reply": "2020-08-28T17:14:32.482657Z"
    },
    "papermill": {
     "duration": 1.459619,
     "end_time": "2020-08-28T17:14:32.482925",
     "exception": false,
     "start_time": "2020-08-28T17:14:31.023306",
     "status": "completed"
    },
    "tags": []
   },
   "outputs": [
    {
     "name": "stdout",
     "output_type": "stream",
     "text": [
      "/kaggle/input/titanic/gender_submission.csv\n",
      "/kaggle/input/titanic/test.csv\n",
      "/kaggle/input/titanic/train.csv\n"
     ]
    }
   ],
   "source": [
    "# This Python 3 environment comes with many helpful analytics libraries installed\n",
    "# It is defined by the kaggle/python Docker image: https://github.com/kaggle/docker-python\n",
    "# For example, here's several helpful packages to load\n",
    "\n",
    "import numpy as np # linear algebra\n",
    "import pandas as pd# data processing, CSV file I/O (e.g. pd.read_csv)\n",
    "import matplotlib.pyplot as plt\n",
    "import seaborn as sns\n",
    "\n",
    "# Input data files are available in the read-only \"../input/\" directory\n",
    "# For example, running this (by clicking run or pressing Shift+Enter) will list all files under the input directory\n",
    "\n",
    "import os\n",
    "for dirname, _, filenames in os.walk('/kaggle/input'):\n",
    "    for filename in filenames:\n",
    "        print(os.path.join(dirname, filename))\n",
    "\n",
    "# You can write up to 5GB to the current directory (/kaggle/working/) that gets preserved as output when you create a version using \"Save & Run All\" \n",
    "# You can also write temporary files to /kaggle/temp/, but they won't be saved outside of the current session"
   ]
  },
  {
   "cell_type": "code",
   "execution_count": 2,
   "metadata": {
    "_cell_guid": "79c7e3d0-c299-4dcb-8224-4455121ee9b0",
    "_uuid": "d629ff2d2480ee46fbb7e2d37f6b5fab8052498a",
    "execution": {
     "iopub.execute_input": "2020-08-28T17:14:32.507409Z",
     "iopub.status.busy": "2020-08-28T17:14:32.502211Z",
     "iopub.status.idle": "2020-08-28T17:14:33.317501Z",
     "shell.execute_reply": "2020-08-28T17:14:33.316768Z"
    },
    "papermill": {
     "duration": 0.829124,
     "end_time": "2020-08-28T17:14:33.317699",
     "exception": false,
     "start_time": "2020-08-28T17:14:32.488575",
     "status": "completed"
    },
    "tags": []
   },
   "outputs": [
    {
     "name": "stdout",
     "output_type": "stream",
     "text": [
      "0      0\n",
      "1      1\n",
      "2      1\n",
      "3      1\n",
      "4      0\n",
      "      ..\n",
      "627    0\n",
      "628    0\n",
      "629    1\n",
      "630    1\n",
      "631    0\n",
      "Name: Survived, Length: 632, dtype: int64\n"
     ]
    },
    {
     "data": {
      "image/png": "[encoded data removed]",
      "text/plain": [
       "<Figure size 432x288 with 2 Axes>"
      ]
     },
     "metadata": {
      "needs_background": "light"
     },
     "output_type": "display_data"
    },
    {
     "data": {
      "image/png": "[encoded data removed]",
      "text/plain": [
       "<Figure size 432x288 with 1 Axes>"
      ]
     },
     "metadata": {
      "needs_background": "light"
     },
     "output_type": "display_data"
    }
   ],
   "source": [
    "df=pd.read_csv('../input/titanic/train.csv')\n",
    "test=pd.read_csv('../input/titanic/test.csv')\n",
    "\n",
    "plt.figure(5)\n",
    "df=df.drop(columns=['Name','SibSp','Ticket','Cabin','Parch','Embarked'])\n",
    "sns.heatmap(df.isnull(),),\n",
    "plt.figure(2)\n",
    "sns.boxplot(data=df,y='Age')\n",
    "# from boxplot 75th%ile seems to b 38 n 25th percentile seems to be 20.....\n",
    "#so multiplying by 1.5  at both ends so Age(10,57) seems good and any value outside this ...lets consider as outliers..\n",
    "#also using this age for calaculating mean for replacing na values of age.\n",
    "df=df.loc[df['Age'].between(9,58),]\n",
    "df=df.reset_index(drop=True,)\n",
    "class_3_age=df.loc[df['Pclass']==3].Age.mean()\n",
    "class_2_age=df.loc[df['Pclass']==2].Age.mean()\n",
    "class_1_age=df.loc[df['Pclass']==1].Age.mean()\n",
    "def remove_null_age(data):\n",
    "    agee=data[0]\n",
    "    pclasss=data[1]\n",
    "    if pd.isnull(agee):\n",
    "        if pclasss==1:\n",
    "            return class_1_age\n",
    "        elif pclasss==2:\n",
    "            return class_2_age\n",
    "        else:\n",
    "            return  class_3_age\n",
    "\n",
    "    return agee\n",
    "df['Age']=df[[\"Age\",\"Pclass\"]].apply(remove_null_age,axis=1)\n",
    "\n",
    "sex=pd.get_dummies(df['Sex'],drop_first=True)\n",
    "sex=sex.reset_index(drop=True)\n",
    "df=df.drop(columns=['Sex'])\n",
    "df=pd.concat([df,sex],axis=1)\n",
    "survived=df[\"Survived\"]\n",
    "print(survived)\n"
   ]
  },
  {
   "cell_type": "code",
   "execution_count": 3,
   "metadata": {
    "execution": {
     "iopub.execute_input": "2020-08-28T17:14:33.341810Z",
     "iopub.status.busy": "2020-08-28T17:14:33.340615Z",
     "iopub.status.idle": "2020-08-28T17:14:33.628438Z",
     "shell.execute_reply": "2020-08-28T17:14:33.629180Z"
    },
    "papermill": {
     "duration": 0.303412,
     "end_time": "2020-08-28T17:14:33.629404",
     "exception": false,
     "start_time": "2020-08-28T17:14:33.325992",
     "status": "completed"
    },
    "tags": []
   },
   "outputs": [
    {
     "name": "stdout",
     "output_type": "stream",
     "text": [
      "0.8004338394793926\n"
     ]
    }
   ],
   "source": [
    "from  sklearn.model_selection import train_test_split\n",
    "\n",
    "x_train,x_test,y_train,y_test=train_test_split(df.drop(\"Survived\",axis=1),survived,test_size=.27,random_state=101)\n",
    "\n",
    "from sklearn.linear_model import LogisticRegression\n",
    "logisticreg=LogisticRegression()\n",
    "logisticreg.fit(x_train,y_train)\n",
    "predictions=logisticreg.predict(x_test)\n",
    "\n",
    "from sklearn.metrics import  accuracy_score\n",
    "print(logisticreg.score(x_train, y_train))"
   ]
  }
 ],
 "metadata": {
  "kernelspec": {
   "display_name": "Python 3",
   "language": "python",
   "name": "python3"
  },
  "language_info": {
   "codemirror_mode": {
    "name": "ipython",
    "version": 3
   },
   "file_extension": ".py",
   "mimetype": "text/x-python",
   "name": "python",
   "nbconvert_exporter": "python",
   "pygments_lexer": "ipython3",
   "version": "3.7.6"
  },
  "papermill": {
   "duration": 9.157843,
   "end_time": "2020-08-28T17:14:33.747768",
   "environment_variables": {},
   "exception": null,
   "input_path": "__notebook__.ipynb",
   "output_path": "__notebook__.ipynb",
   "parameters": {},
   "start_time": "2020-08-28T17:14:24.589925",
   "version": "2.1.0"
  }
 },
 "nbformat": 4,
 "nbformat_minor": 4
}
